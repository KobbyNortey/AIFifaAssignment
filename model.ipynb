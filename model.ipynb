{
 "cells": [
  {
   "metadata": {},
   "cell_type": "markdown",
   "source": "Imports",
   "id": "25e9c9655909f658"
  },
  {
   "metadata": {},
   "cell_type": "code",
   "outputs": [],
   "execution_count": null,
   "source": [
    "import joblib\n",
    "import numpy as np\n",
    "import pandas as pd\n",
    "from sklearn.ensemble import RandomForestRegressor, GradientBoostingRegressor\n",
    "from sklearn.feature_selection import SelectKBest, f_regression\n",
    "from sklearn.impute import SimpleImputer\n",
    "from sklearn.linear_model import LinearRegression\n",
    "from sklearn.metrics import mean_squared_error\n",
    "from sklearn.model_selection import GridSearchCV, train_test_split, cross_val_score\n",
    "from sklearn.neighbors import KNeighborsRegressor\n",
    "from sklearn.preprocessing import StandardScaler\n",
    "from sklearn.svm import SVR"
   ],
   "id": "initial_id"
  },
  {
   "metadata": {},
   "cell_type": "code",
   "source": [
    "fifa_22 = pd.read_csv(\"Data/players_22.csv\", low_memory=False, dtype={25: str, 108: str})\n",
    "male_players = pd.read_csv(\"Data/males_legacy.csv\", low_memory=False, dtype={108: str})"
   ],
   "id": "81f26e5f58f59d17",
   "outputs": [],
   "execution_count": null
  },
  {
   "metadata": {},
   "cell_type": "markdown",
   "source": "Cleaning",
   "id": "73c1cf09b2b054ce"
  },
  {
   "metadata": {},
   "cell_type": "code",
   "outputs": [],
   "execution_count": null,
   "source": [
    "numeric_cols = male_players.select_dtypes(include=[np.number]).columns\n",
    "# Drop columns that are not present in both datasets\n",
    "drop_cols = ['club_contract_valid_until_year', 'fifa_update', 'fifa_version', 'league_id']\n",
    "numeric_cols = numeric_cols.difference(drop_cols)"
   ],
   "id": "21f5fa4eead2f5ec"
  },
  {
   "metadata": {},
   "cell_type": "code",
   "outputs": [],
   "execution_count": null,
   "source": [
    "#Impute\n",
    "imputer = SimpleImputer(strategy='median')\n",
    "male_players_filled = pd.DataFrame(imputer.fit_transform(male_players[numeric_cols]), columns=numeric_cols)"
   ],
   "id": "b8075b50ec222c9f"
  },
  {
   "metadata": {},
   "cell_type": "code",
   "outputs": [],
   "execution_count": null,
   "source": [
    "#Variance\n",
    "variances = male_players_filled.var()\n",
    "non_zero_var_features = variances[variances > 1e-8].index.tolist()\n",
    "male_players_filled = male_players_filled[non_zero_var_features]"
   ],
   "id": "a50a132163b44512"
  },
  {
   "metadata": {},
   "cell_type": "code",
   "source": [
    "y = male_players_filled['overall']\n",
    "X = male_players_filled.drop(columns=['overall'])\n",
    "\n",
    "# Select the 13 most important features\n",
    "selector = SelectKBest(f_regression, k=13)\n",
    "X_selected = selector.fit_transform(X, y)\n",
    "\n",
    "selected_features = X.columns[selector.get_support()].tolist()\n",
    "X_final = pd.DataFrame(X_selected, columns=selected_features, index=X.index)\n",
    "\n",
    "# Scaling\n",
    "scaler = StandardScaler()\n",
    "X_scaled = scaler.fit_transform(X_final)"
   ],
   "id": "862e3864f74f4017",
   "outputs": [],
   "execution_count": null
  },
  {
   "metadata": {},
   "cell_type": "code",
   "source": "X_train, X_val, y_train, y_val = train_test_split(X_scaled, y, test_size=0.2, random_state=42)",
   "id": "55ebbe199476244b",
   "outputs": [],
   "execution_count": null
  },
  {
   "metadata": {},
   "cell_type": "code",
   "source": [
    "knn_model = KNeighborsRegressor()\n",
    "lr_model = LinearRegression()\n",
    "svr_model = SVR()\n",
    "rf_model = RandomForestRegressor(random_state=42)\n",
    "gb_model = GradientBoostingRegressor(random_state=42)"
   ],
   "id": "62fb67a6d66cf77f",
   "outputs": [],
   "execution_count": null
  },
  {
   "metadata": {},
   "cell_type": "code",
   "source": [
    "# Train models with cross-validation\n",
    "models = [knn_model, lr_model, svr_model, rf_model, gb_model]\n",
    "model_names = ['KNN', 'Linear Regression', 'SVR', 'Random Forest', 'Gradient Boosting']\n",
    "\n",
    "for model, name in zip(models, model_names):\n",
    "    scores = cross_val_score(model, X_train, y_train, cv=3, scoring='neg_mean_squared_error', n_jobs=-1)\n",
    "    rmse_scores = np.sqrt(-scores)\n",
    "    print(f\"{name} Cross-Validation RMSE: {rmse_scores.mean():.2f} (+/- {rmse_scores.std() * 2:.2f})\")"
   ],
   "id": "869269e3126f88d7",
   "outputs": [],
   "execution_count": null
  },
  {
   "metadata": {},
   "cell_type": "code",
   "outputs": [],
   "execution_count": null,
   "source": [
    "# Fine-Tuning KNN\n",
    "best_model = KNeighborsRegressor()\n",
    "param_grid = {\n",
    "    'n_neighbors': [3, 5, 7],\n",
    "    'weights': ['uniform', 'distance'],\n",
    "    'metric': ['euclidean', 'manhattan']\n",
    "}\n",
    "grid_search = GridSearchCV(best_model, param_grid, cv=3, scoring='neg_mean_squared_error', n_jobs=-1)\n",
    "grid_search.fit(X_train, y_train)"
   ],
   "id": "371b4ccdbdb848e2"
  },
  {
   "metadata": {},
   "cell_type": "code",
   "outputs": [],
   "execution_count": null,
   "source": [
    "best_model = grid_search.best_estimator_\n",
    "\n",
    "y_pred = best_model.predict(X_val)\n",
    "rmse = np.sqrt(mean_squared_error(y_val, y_pred))\n",
    "\n",
    "print(\"Best parameters:\", grid_search.best_params_)\n",
    "print(\"Validation RMSE:\", rmse)"
   ],
   "id": "3cee74a788a635a3"
  },
  {
   "metadata": {},
   "cell_type": "code",
   "source": [
    "numeric_cols_22 = fifa_22.select_dtypes(include=[np.number]).columns\n",
    "\n",
    "fifa_22.rename(columns={'sofifa_id': 'player_id'}, inplace=True)\n",
    "\n",
    "# Align the columns in fifa_22 to match the training data\n",
    "fifa_22_aligned = fifa_22[numeric_cols.intersection(fifa_22.columns)].copy()\n",
    "\n",
    "fifa_22_filled = pd.DataFrame(imputer.transform(fifa_22_aligned), columns=fifa_22_aligned.columns)\n",
    "X_test = fifa_22_filled[selected_features]\n",
    "X_test_scaled = scaler.transform(X_test)"
   ],
   "id": "87b680bc53ac016b",
   "outputs": [],
   "execution_count": null
  },
  {
   "metadata": {},
   "cell_type": "code",
   "outputs": [],
   "execution_count": null,
   "source": [
    "y_pred_test = best_model.predict(X_test_scaled)\n",
    "rmse_test = np.sqrt(mean_squared_error(fifa_22_filled['overall'], y_pred_test))\n",
    "\n",
    "print(\"Test RMSE:\", rmse_test)"
   ],
   "id": "114e7c83cca3a12f"
  },
  {
   "metadata": {},
   "cell_type": "markdown",
   "source": "Save the model and preprocessing objects",
   "id": "cc1c476a5056d6bf"
  },
  {
   "metadata": {},
   "cell_type": "code",
   "source": [
    "joblib.dump(best_model, \"models/knn_model.pkl\")\n",
    "joblib.dump(scaler, \"models/scaler.pkl\")\n",
    "joblib.dump(imputer, \"models/imputer.pkl\")\n",
    "joblib.dump(selected_features, \"models/selected_features.pkl\")"
   ],
   "id": "6c584ebf9019fee8",
   "outputs": [],
   "execution_count": null
  }
 ],
 "metadata": {
  "kernelspec": {
   "display_name": "Python 3",
   "language": "python",
   "name": "python3"
  },
  "language_info": {
   "codemirror_mode": {
    "name": "ipython",
    "version": 2
   },
   "file_extension": ".py",
   "mimetype": "text/x-python",
   "name": "python",
   "nbconvert_exporter": "python",
   "pygments_lexer": "ipython2",
   "version": "2.7.6"
  }
 },
 "nbformat": 4,
 "nbformat_minor": 5
}
