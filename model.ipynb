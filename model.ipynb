{
 "cells": [
  {
   "cell_type": "code",
   "id": "initial_id",
   "metadata": {
    "collapsed": true,
    "ExecuteTime": {
     "end_time": "2024-06-23T23:17:52.417433Z",
     "start_time": "2024-06-23T23:17:49.396825Z"
    }
   },
   "source": [
    "import joblib\n",
    "import numpy as np\n",
    "import pandas as pd\n",
    "from sklearn.ensemble import RandomForestRegressor, GradientBoostingRegressor\n",
    "from sklearn.feature_selection import SelectKBest, f_regression\n",
    "from sklearn.impute import SimpleImputer\n",
    "from sklearn.linear_model import LinearRegression\n",
    "from sklearn.metrics import mean_squared_error\n",
    "from sklearn.model_selection import GridSearchCV, train_test_split, cross_val_score\n",
    "from sklearn.neighbors import KNeighborsRegressor\n",
    "from sklearn.preprocessing import StandardScaler\n",
    "from sklearn.svm import SVR"
   ],
   "outputs": [],
   "execution_count": 1
  },
  {
   "metadata": {
    "ExecuteTime": {
     "end_time": "2024-06-23T23:18:01.079784Z",
     "start_time": "2024-06-23T23:17:52.420942Z"
    }
   },
   "cell_type": "code",
   "source": [
    "fifa_22 = pd.read_csv(\"Data/players_22.csv\", low_memory=False, dtype={25: str, 108: str})\n",
    "male_players = pd.read_csv(\"Data/males_legacy.csv\", low_memory=False, dtype={108: str})"
   ],
   "id": "81f26e5f58f59d17",
   "outputs": [],
   "execution_count": 2
  },
  {
   "metadata": {},
   "cell_type": "code",
   "outputs": [],
   "execution_count": null,
   "source": [
    "#Cleaning\n",
    "numeric_cols = male_players.select_dtypes(include=[np.number]).columns\n",
    "\n",
    "# Drop columns that are not present in both datasets\n",
    "drop_cols = ['club_contract_valid_until_year', 'fifa_update', 'fifa_version', 'league_id']\n",
    "numeric_cols = numeric_cols.difference(drop_cols)\n",
    "\n",
    "# Impute missing values in numerical columns\n",
    "imputer = SimpleImputer(strategy='median')\n",
    "male_players_filled = pd.DataFrame(imputer.fit_transform(male_players[numeric_cols]), columns=numeric_cols)\n",
    "\n",
    "# Calculate variance for each feature\n",
    "variances = male_players_filled.var()\n",
    "\n",
    "# Identify features with non-zero variance\n",
    "non_zero_var_features = variances[variances > 1e-8].index.tolist()\n",
    "\n",
    "# Keep only features with non-zero variance\n",
    "male_players_filled = male_players_filled[non_zero_var_features]\n"
   ],
   "id": "a40e374797b6561c"
  },
  {
   "metadata": {
    "ExecuteTime": {
     "end_time": "2024-06-23T23:18:01.274479Z",
     "start_time": "2024-06-23T23:18:01.092569Z"
    }
   },
   "cell_type": "code",
   "source": [
    "# Define the target variable and features\n",
    "y = male_players_filled['overall']\n",
    "X = male_players_filled.drop(columns=['overall'])\n",
    "\n",
    "# Select the 13 most important features\n",
    "selector = SelectKBest(f_regression, k=13)\n",
    "X_selected = selector.fit_transform(X, y)\n",
    "\n",
    "selected_features = X.columns[selector.get_support()].tolist()\n",
    "X_final = pd.DataFrame(X_selected, columns=selected_features, index=X.index)\n",
    "\n",
    "# Scaling\n",
    "scaler = StandardScaler()\n",
    "X_scaled = scaler.fit_transform(X_final)"
   ],
   "id": "862e3864f74f4017",
   "outputs": [],
   "execution_count": 3
  },
  {
   "metadata": {
    "ExecuteTime": {
     "end_time": "2024-06-23T23:18:01.379381Z",
     "start_time": "2024-06-23T23:18:01.279169Z"
    }
   },
   "cell_type": "code",
   "source": "X_train, X_val, y_train, y_val = train_test_split(X_scaled, y, test_size=0.2, random_state=42)",
   "id": "55ebbe199476244b",
   "outputs": [],
   "execution_count": 4
  },
  {
   "metadata": {
    "jupyter": {
     "is_executing": true
    },
    "ExecuteTime": {
     "start_time": "2024-06-23T23:18:01.381992Z"
    }
   },
   "cell_type": "code",
   "source": [
    "knn_model = KNeighborsRegressor()\n",
    "lr_model = LinearRegression()\n",
    "svr_model = SVR()\n",
    "rf_model = RandomForestRegressor(random_state=42)\n",
    "gb_model = GradientBoostingRegressor(random_state=42)\n",
    "\n",
    "# Train models with cross-validation\n",
    "models = [knn_model, lr_model, svr_model, rf_model, gb_model]\n",
    "model_names = ['KNN', 'Linear Regression', 'SVR', 'Random Forest', 'Gradient Boosting']\n",
    "\n",
    "for model, name in zip(models, model_names):\n",
    "    scores = cross_val_score(model, X_train, y_train, cv=3, scoring='neg_mean_squared_error', n_jobs=-1)\n",
    "    rmse_scores = np.sqrt(-scores)\n",
    "    print(f\"{name} Cross-Validation RMSE: {rmse_scores.mean():.2f} (+/- {rmse_scores.std() * 2:.2f})\")\n",
    "\n",
    "# Fine-Tuning KNN\n",
    "best_model = KNeighborsRegressor()\n",
    "param_grid = {\n",
    "    'n_neighbors': [3, 5, 7],\n",
    "    'weights': ['uniform', 'distance'],\n",
    "    'metric': ['euclidean', 'manhattan']\n",
    "}\n",
    "grid_search = GridSearchCV(best_model, param_grid, cv=3, scoring='neg_mean_squared_error', n_jobs=-1)\n",
    "grid_search.fit(X_train, y_train)\n",
    "\n",
    "# Get the best model\n",
    "best_model = grid_search.best_estimator_\n",
    "\n",
    "# Evaluate on validation set\n",
    "y_pred = best_model.predict(X_val)\n",
    "rmse = np.sqrt(mean_squared_error(y_val, y_pred))\n",
    "\n",
    "print(\"Best parameters:\", grid_search.best_params_)\n",
    "print(\"Validation RMSE:\", rmse)"
   ],
   "id": "62fb67a6d66cf77f",
   "outputs": [
    {
     "name": "stdout",
     "output_type": "stream",
     "text": [
      "KNN Cross-Validation RMSE: 1.87 (+/- 0.02)\n",
      "Linear Regression Cross-Validation RMSE: 2.66 (+/- 0.01)\n"
     ]
    }
   ],
   "execution_count": null
  },
  {
   "metadata": {},
   "cell_type": "code",
   "outputs": [],
   "execution_count": null,
   "source": "",
   "id": "869269e3126f88d7"
  },
  {
   "metadata": {
    "jupyter": {
     "is_executing": true
    }
   },
   "cell_type": "code",
   "source": [
    "# Preprocess the new data\n",
    "numeric_cols_22 = fifa_22.select_dtypes(include=[np.number]).columns\n",
    "\n",
    "\n",
    "fifa_22.rename(columns={'sofifa_id': 'player_id'}, inplace=True)\n",
    "\n",
    "# Align the columns in fifa_22 to match the training data\n",
    "fifa_22_aligned = fifa_22[numeric_cols.intersection(fifa_22.columns)].copy()\n",
    "\n",
    "\n",
    "fifa_22_filled = pd.DataFrame(imputer.transform(fifa_22_aligned), columns=fifa_22_aligned.columns)\n",
    "\n",
    "\n",
    "X_test = fifa_22_filled[selected_features]\n",
    "\n",
    "\n",
    "X_test_scaled = scaler.transform(X_test)\n",
    "\n",
    "# Make predictions using the best KNN model\n",
    "y_pred_test = best_model.predict(X_test_scaled)\n",
    "\n",
    "# Calculate RMSE\n",
    "rmse_test = np.sqrt(mean_squared_error(fifa_22_filled['overall'], y_pred_test))\n",
    "\n",
    "print(\"Test RMSE:\", rmse_test)"
   ],
   "id": "87b680bc53ac016b",
   "outputs": [],
   "execution_count": null
  },
  {
   "metadata": {
    "jupyter": {
     "is_executing": true
    }
   },
   "cell_type": "code",
   "source": [
    "joblib.dump(best_model, \"models/knn_model.pkl\")\n",
    "joblib.dump(scaler, \"models/scaler.pkl\")\n",
    "joblib.dump(imputer, \"models/imputer.pkl\")\n",
    "joblib.dump(selected_features, \"models/selected_features.pkl\")"
   ],
   "id": "6c584ebf9019fee8",
   "outputs": [],
   "execution_count": null
  }
 ],
 "metadata": {
  "kernelspec": {
   "display_name": "Python 3",
   "language": "python",
   "name": "python3"
  },
  "language_info": {
   "codemirror_mode": {
    "name": "ipython",
    "version": 2
   },
   "file_extension": ".py",
   "mimetype": "text/x-python",
   "name": "python",
   "nbconvert_exporter": "python",
   "pygments_lexer": "ipython2",
   "version": "2.7.6"
  }
 },
 "nbformat": 4,
 "nbformat_minor": 5
}
